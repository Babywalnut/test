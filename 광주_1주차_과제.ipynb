{
  "nbformat": 4,
  "nbformat_minor": 0,
  "metadata": {
    "colab": {
      "name": "광주 1주차 과제.ipynb",
      "provenance": [],
      "collapsed_sections": [],
      "authorship_tag": "ABX9TyMUu+NV7ogkNNTmG3t0B/ns",
      "include_colab_link": true
    },
    "kernelspec": {
      "name": "python3",
      "display_name": "Python 3"
    }
  },
  "cells": [
    {
      "cell_type": "markdown",
      "metadata": {
        "id": "view-in-github",
        "colab_type": "text"
      },
      "source": [
        "<a href=\"https://colab.research.google.com/github/Babywalnut/test/blob/master/%EA%B4%91%EC%A3%BC_1%EC%A3%BC%EC%B0%A8_%EA%B3%BC%EC%A0%9C.ipynb\" target=\"_parent\"><img src=\"https://colab.research.google.com/assets/colab-badge.svg\" alt=\"Open In Colab\"/></a>"
      ]
    },
    {
      "cell_type": "markdown",
      "metadata": {
        "id": "2yWN0M6STraW",
        "colab_type": "text"
      },
      "source": [
        "# 광주 인공지능 사관학교 1주차 과제\n",
        "\n",
        "현재 자연어, 음성, 이미지, 자율주행 분야의 기술이 적용되여 사용되는 사례를 설명하시오\n",
        "\n",
        "1. 현재 네이버나 구글에서는 사용자가 입력한 텍스트를 기반으로 과거 기록을 찾아주거나 예상되는 검색어 목록을 보여줍니다. 또한 검색한 내용에 오타가 있을때도 이를 기반으로 사용자가 찾고자하는 내용을 검색할 수 있는 정확한 표기의 검색어로 자동 교정해줍니다.\n",
        "\n",
        "2. 음성인식 분야에서는 요즘 가장 대중적으로 쓰이는 기술은 스마트폰의 가상비서(애플 : 시리, 삼성 : 빅스비)와 음성인식 스피커 입니다. 이는 사용자의 음성을 인식하여 사용자가 원하는 정보를 찾아줄 뿐만 아니라 사용자와 의사소통이 가능한 수준까지 도달했습니다.\n",
        "\n",
        "3. 이미지 분야에서는 사람의 얼굴의 특징을 분석하여 사람의 나이 및 성별도 예측이 가능하며 개개인의 특징을 분류할 수 있습니다. 이는 현재 아이폰의 페이스아이디로 적용되어 쓰이고 있으며 또한 입체적인 얼굴 인식이 더 연구된다면 사진으로 인식되는 도어락의 단점을 보완하여 좀 더 보완성이 우수한 제품을 만들 수 있을 겁니다.\n",
        "\n",
        "4. 자율주행 기술은 대표적으로 최근에 현대에서 발표한 신형 g80에 적용되었습니다. 신형 g80의 자율주행인 스마트 크루즈 컨트롤은 ‘운전 스타일 연동 기능’을 지원합니다.. 운전자의 주행 성향을 차가 스스로 학습하여 운전자가 직접 운전하는 것과 흡사하게 주행을 보조합니다."
      ]
    },
    {
      "cell_type": "markdown",
      "metadata": {
        "id": "LsVgVtXxTjg6",
        "colab_type": "text"
      },
      "source": [
        ""
      ]
    }
  ]
}